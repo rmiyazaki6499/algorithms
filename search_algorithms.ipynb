{
 "cells": [
  {
   "cell_type": "markdown",
   "metadata": {},
   "source": [
    "# Search Algorithms"
   ]
  },
  {
   "cell_type": "markdown",
   "metadata": {},
   "source": [
    "## Introduction "
   ]
  },
  {
   "cell_type": "markdown",
   "metadata": {},
   "source": [
    "In computer science, a search algorithm is any algorithm which solves the search problem, namely, to retrieve information stored within some data structure, or calculated in the search space of a problem domain, either with discrete or continuous values.\n",
    "\n",
    "There are mainly two types of searches:\n",
    "1. Sequential Search: In this, the list or array is traversed sequentially and every element is checked. For example: Linear Search.\n",
    "2. Interval Search: These algorithms are specifically designed for searching in sorted data-structures. These type of searching algorithms are much more efficient than Linear Search as they repeatedly target the center of the search structure and divide the search space in half. For Example: Binary Search.\n",
    "\n",
    "We will cover these 5 search Algorithms:\n",
    "1. Linear Search\n",
    "2. Binary Search\n",
    "3. Jump Search\n",
    "4. Interpolation Search\n",
    "5. Exponential Search"
   ]
  },
  {
   "cell_type": "markdown",
   "metadata": {},
   "source": [
    "## Linear Search"
   ]
  },
  {
   "cell_type": "markdown",
   "metadata": {},
   "source": [
    "A linear search or sequential search is a method for finding an element within a list. It sequentially checks each element of the list until a match is found or the whole list has been searched.\n",
    "\n",
    "Linear search is not often used in practice, because the same efficiency can be achieved by using inbuilt methods or existing operators, and it is not as fast or efficient as other search algorithms.\n",
    "\n",
    "Linear search is a good fit for when we need to find the first occurrence of an item in an unsorted collection because unlike most other search algorithms, it does not require that a collection be sorted before searching begins.\n",
    "\n",
    "**This algorith has an average of O(n) time complexity because it has to iterate through all elements of the array/list** "
   ]
  },
  {
   "cell_type": "code",
   "execution_count": 1,
   "metadata": {},
   "outputs": [],
   "source": [
    "# array = Array to search for the element\n",
    "# value = Value to search for within the array\n",
    "# returns = Index of the first element which matches the value\n",
    "\n",
    "array = [1,2,3,4,5,2,1]\n",
    "value = 2\n",
    "\n",
    "def searchArray(function, *args):\n",
    "    result = str(function(*args))\n",
    "    if result == -1:\n",
    "        print(f\"The Element {value} is not in the array\")\n",
    "    else:\n",
    "        print(f\"The Element {value} is at index {result}\")"
   ]
  },
  {
   "cell_type": "code",
   "execution_count": 2,
   "metadata": {},
   "outputs": [
    {
     "name": "stdout",
     "output_type": "stream",
     "text": [
      "The Element 2 is at index 1\n"
     ]
    }
   ],
   "source": [
    "def linear(array, value):\n",
    "    for i in range(len(array)):\n",
    "        if array[i] == value:\n",
    "            return i\n",
    "    return -1\n",
    "\n",
    "searchArray(linear, array, value)"
   ]
  },
  {
   "cell_type": "markdown",
   "metadata": {},
   "source": [
    "## Binary Search"
   ]
  },
  {
   "cell_type": "markdown",
   "metadata": {},
   "source": [
    "Binary search follows a divide and conquer methodology. It is faster than linear search but requires that the array be sorted before the algorithm is executed.\n",
    "\n",
    "One drawback of binary search is that if there are multiple occurrences of an element in the array, it does not return the index of the first element, but rather the index of the element closest to the middle.\n",
    "\n",
    "**The time complexity of a Binary Search is O(log n) due to it's divide and conquer pattern**\n",
    "\n",
    "The binary search algorithm can be written either recursively or iteratively. Recursion is generally slower in Python because it requires the allocation of new stack frames.\n",
    "\n",
    "*Let's implement it both iteratively and recursively*"
   ]
  },
  {
   "cell_type": "code",
   "execution_count": 3,
   "metadata": {},
   "outputs": [],
   "source": [
    "# array is the array to be searched\n",
    "# value is the value for which to be searched\n",
    "# returns the index of the element otherwise -1\n",
    "\n",
    "def binary_iterative(array, value):\n",
    "    first = 0\n",
    "    last = len(array) - 1\n",
    "    index = -1\n",
    "    while(first <= last) and index == -1:\n",
    "        middle = (first + last) // 2\n",
    "        if array[middle] == value:\n",
    "            index = middle\n",
    "        else:\n",
    "            if value < array[middle]:\n",
    "                last = middle - 1\n",
    "            else:\n",
    "                first = middle + 1\n",
    "    return index\n",
    "\n",
    "def binary_recursive(array, left, right, value):\n",
    "    if right >= left:\n",
    "        middle = (left + (right + 1)) // 2\n",
    "        if array[middle] == value:\n",
    "            return middle\n",
    "        elif value < array[middle]:\n",
    "            return binary_recursive(array, left, middle - 1, value)\n",
    "        else:\n",
    "            return binary_recursive(array, middle + 1, right, value)\n",
    "    else:\n",
    "        return -1"
   ]
  },
  {
   "cell_type": "code",
   "execution_count": 4,
   "metadata": {},
   "outputs": [
    {
     "name": "stdout",
     "output_type": "stream",
     "text": [
      "The Element 50 is at index 4\n"
     ]
    }
   ],
   "source": [
    "array =[10,20,30,40,50]\n",
    "value = 50\n",
    "\n",
    "searchArray(binary_iterative, array, value)"
   ]
  },
  {
   "cell_type": "code",
   "execution_count": 5,
   "metadata": {},
   "outputs": [
    {
     "name": "stdout",
     "output_type": "stream",
     "text": [
      "The Element 50 is at index 4\n"
     ]
    }
   ],
   "source": [
    "array =[10,20,30,40,50]\n",
    "value = 50\n",
    "left = 0\n",
    "right = len(array) - 1\n",
    "\n",
    "searchArray(binary_recursive, array, left, right, value)"
   ]
  },
  {
   "cell_type": "markdown",
   "metadata": {},
   "source": [
    "## Jump Search"
   ]
  },
  {
   "cell_type": "markdown",
   "metadata": {},
   "source": [
    "Jump Search is similar to binary search in that it works on a sorted array, and uses a similar divide and conquer approach to search through it.\n",
    "\n",
    "It can be classified as an improvement of the linear search algorithm since it depends on linear search to perform the actual comparison when searching for a value.\n",
    "\n",
    "The Jump search depends on a predetermined jump size which is typically the squareroot of the length of the array\n",
    "\n",
    "**The time complexity of the search is at O(n^1/2) on average and worst case**"
   ]
  },
  {
   "cell_type": "code",
   "execution_count": 6,
   "metadata": {},
   "outputs": [],
   "source": [
    "import math\n",
    "\n",
    "def jump(array, value):\n",
    "    length = len(array)\n",
    "    jump = int(math.sqrt(length))\n",
    "    left, right = 0, 0\n",
    "    while left < length and array[left] <= value:\n",
    "        right = min(length - 1, left + jump)\n",
    "        if array[left] <= value and array[right] >= value:\n",
    "            break\n",
    "        left += jump\n",
    "    if left >= length or array[left] > value:\n",
    "        return -1\n",
    "    right = min(length - 1, right)\n",
    "    i = left\n",
    "    while i <= right and array[i] <= value:\n",
    "        if array[i] == value:\n",
    "            return i\n",
    "        i += 1\n",
    "    return -1\n",
    "\n",
    "def jumpRyu(array, value):\n",
    "    length = len(array)\n",
    "    jump = int(math.sqrt(length))\n",
    "    index = 0\n",
    "    while array[index] < value:\n",
    "        if index + jump >= length:\n",
    "            index = length - 1\n",
    "            break\n",
    "        index += jump\n",
    "    while array[index] > value:\n",
    "        index -= 1\n",
    "    return index"
   ]
  },
  {
   "cell_type": "code",
   "execution_count": 7,
   "metadata": {},
   "outputs": [
    {
     "name": "stdout",
     "output_type": "stream",
     "text": [
      "The Element 7 is at index 6\n",
      "The Element 7 is at index 6\n"
     ]
    }
   ],
   "source": [
    "array = [1,2,3,4,5,6,7,8,9]\n",
    "value = 7\n",
    "\n",
    "searchArray(jump, array, value)\n",
    "\n",
    "searchArray(jumpRyu, array, value)"
   ]
  },
  {
   "cell_type": "markdown",
   "metadata": {},
   "source": [
    "## Interpolation Search"
   ]
  },
  {
   "cell_type": "markdown",
   "metadata": {},
   "source": [
    "Interpolation search is another divide and conquer algorithm, similar to binary search. Unlike binary search, it does not always begin searching at the middle. Interpolation search calculates the probable position of the element we are searching for using the formula:\n",
    "\n",
    "index = low + [(value - array[low]) * (high-low) / (array[high] - array[low])]\n",
    "\n",
    "Interpolation search works best on uniformly distributed, sorted arrays. Whereas binary search starts in the middle and always divides into two, interpolation search calculates the likely position of the element and checks the index, making it more likely to find the element in a smaller number of iterations.\n",
    "\n",
    "**The time complexity of interpolation search is O(log log n) when values are uniformly distributed. If values are not uniformly distributed, the worst-case time complexity is O(n)**"
   ]
  },
  {
   "cell_type": "code",
   "execution_count": 8,
   "metadata": {},
   "outputs": [],
   "source": [
    "def interpolation(array, value):\n",
    "    low = 0\n",
    "    high = len(array) - 1\n",
    "    while low <= high and value >= array[low] and value <= array[high]:\n",
    "        index = low + int(((float(high - low) / ( array[high] - array[low])) * ( value - array[low])))\n",
    "        if array[index] == value:\n",
    "            return index\n",
    "        if array[index] < value:\n",
    "            low = index + 1\n",
    "        else:\n",
    "            high = index - 1\n",
    "    return -1"
   ]
  },
  {
   "cell_type": "code",
   "execution_count": 9,
   "metadata": {},
   "outputs": [
    {
     "name": "stdout",
     "output_type": "stream",
     "text": [
      "The Element 6 is at index 5\n"
     ]
    }
   ],
   "source": [
    "array = [1,2,3,4,5,6,7,8]\n",
    "value = 6\n",
    "\n",
    "searchArray(interpolation, array, value)"
   ]
  },
  {
   "cell_type": "markdown",
   "metadata": {},
   "source": [
    "## Exponential Search"
   ]
  },
  {
   "cell_type": "markdown",
   "metadata": {},
   "source": [
    "Exponential search depends on binary search to perform the final comparison of values. The algorithm works by determining the range where the element we're looking for is likely to be and using binary search for the range to find the exact index of the item.\n",
    "\n",
    "Exponential search works better than binary search when the element we are searching for is closer to the beginning of the array. In practice, we use exponential search because it is one of the most efficient search algorithms for unbounded or infinite arrays.\n",
    "\n",
    "**Exponential search runs in O(log i) time, where i is the index of the item we are searching for.**"
   ]
  },
  {
   "cell_type": "code",
   "execution_count": 10,
   "metadata": {},
   "outputs": [],
   "source": [
    "def exponential(array, value):\n",
    "    if array[0] == value:\n",
    "        return 0\n",
    "    length = len(array)\n",
    "    index = 1\n",
    "    while index < length and array[index] <= value:\n",
    "        index *= 2\n",
    "    return binary_iterative(array[:min(index, length)], value)"
   ]
  },
  {
   "cell_type": "code",
   "execution_count": 11,
   "metadata": {},
   "outputs": [
    {
     "name": "stdout",
     "output_type": "stream",
     "text": [
      "The Element 3 is at index 2\n"
     ]
    }
   ],
   "source": [
    "array = [1,2,3,4,5,6,7,8]\n",
    "value = 3\n",
    "\n",
    "searchArray(exponential, array, value)"
   ]
  }
 ],
 "metadata": {
  "kernelspec": {
   "display_name": "Python 3",
   "language": "python",
   "name": "python3"
  },
  "language_info": {
   "codemirror_mode": {
    "name": "ipython",
    "version": 3
   },
   "file_extension": ".py",
   "mimetype": "text/x-python",
   "name": "python",
   "nbconvert_exporter": "python",
   "pygments_lexer": "ipython3",
   "version": "3.7.6"
  },
  "toc": {
   "base_numbering": 1,
   "nav_menu": {},
   "number_sections": true,
   "sideBar": true,
   "skip_h1_title": false,
   "title_cell": "Table of Contents",
   "title_sidebar": "Contents",
   "toc_cell": false,
   "toc_position": {},
   "toc_section_display": true,
   "toc_window_display": false
  },
  "varInspector": {
   "cols": {
    "lenName": 16,
    "lenType": 16,
    "lenVar": 40
   },
   "kernels_config": {
    "python": {
     "delete_cmd_postfix": "",
     "delete_cmd_prefix": "del ",
     "library": "var_list.py",
     "varRefreshCmd": "print(var_dic_list())"
    },
    "r": {
     "delete_cmd_postfix": ") ",
     "delete_cmd_prefix": "rm(",
     "library": "var_list.r",
     "varRefreshCmd": "cat(var_dic_list()) "
    }
   },
   "types_to_exclude": [
    "module",
    "function",
    "builtin_function_or_method",
    "instance",
    "_Feature"
   ],
   "window_display": false
  }
 },
 "nbformat": 4,
 "nbformat_minor": 2
}
